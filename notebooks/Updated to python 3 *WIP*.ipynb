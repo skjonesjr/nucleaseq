{
 "cells": [
  {
   "cell_type": "markdown",
   "metadata": {},
   "source": [
    "# Oligo Design\n",
    "\n",
    "For Nucleaseq, we want to design sequences with the following basic structure:\n",
    "\n",
    "| Left primer | Left BC | Left buffer | Target$_n$ | Right buffer | Right fill | Right BC | Right primer |\n",
    "| - | - | - | - | - | - | - | - |\n",
    "\n",
    "Where Target$_n$ is from the set of all desired modified target sequences. \n",
    "\n",
    "The set of Target$_n$'s is specific to each experiment, but there are some relatively standard sets. For example, most experiments will wish to include all single- and double-mismatch sequences. While on the other hand, the PAM structure for each CRISPR variant is different and may require custom sequence generation. And other nucleases may have entirely different needs.\n",
    "\n",
    "To handle this, we have a number of functions for standard modifications in design.py, which can be called below, while at the same time we have a space explicitly reserved for custom sequence generation: \"Custom sequence functions\". After the set of target-generation functions is complete, they need added to the \"Construct Sequences\" section below, in the manner shown by the included examples. Go through this section carefully to verify the set of included sequences is correct.\n",
    "\n",
    "The \"Run parameters\" section needs updated according to the experimental requirements, as well. One parameter which needs specified is a list all canonical cut positions along the target sequence. This needs to be a python integer with \".5\" after it to indicate the cut position. For instance, 18.5 cuts between python indices 18 and 19. The lower portion of this notebook needs this information to find appropriate primer sequences.\n",
    "\n",
    "Finally, the user is expected to adjust the primers as necessary to fit their experimental conditions. See the \"Replace Primers\" section for details."
   ]
  },
  {
   "cell_type": "markdown",
   "metadata": {},
   "source": [
    "## Sequence Motifs\n",
    "\n",
    "### For this notebook, we want the following sequences and modifications:\n",
    "\n",
    "* Target D - TnpB (IsDra2)\n",
    "* single mismatches\n",
    "* double mismatches\n",
    "* single insertions\n",
    "* double insertions\n",
    "* single deletions \n",
    "* double deletions\n",
    "* scanning mismatch regions (using the complement) for 3 bp to 24 bp length regions\n",
    "* Perfect target with different buffer regions\n",
    "* Perfect target with various barcodes\n",
    "* Random negative control seqs\n",
    "* Various 5N PAM\n",
    "* single mm and single ins seqs\n",
    "* single mm and single del seqs"
   ]
  },
  {
   "cell_type": "code",
   "execution_count": 2,
   "metadata": {},
   "outputs": [],
   "source": [
    "import time\n",
    "notebook_start_time = time.time()\n",
    "\n",
    "%matplotlib inline\n",
    "%load_ext autoreload\n",
    "%autoreload 2\n",
    "\n",
    "import sys\n",
    "import yaml\n",
    "import itertools\n",
    "import random\n",
    "import math\n",
    "import logging\n",
    "import scipy.misc\n",
    "import editdistance\n",
    "import numpy as np\n",
    "from copy import deepcopy\n",
    "from collections import defaultdict, Counter\n",
    "from Bio.Seq import Seq\n",
    "from freebarcodes.seqtools import simple_hamming_distance\n",
    "import freebarcodes.seqtools as fbseqtools\n",
    "\n",
    "from nucleaseq import design, seqtools\n",
    "from nucleaseq.NucleaSeqOligo import NucleaSeqOligo\n",
    "from nucleaseq.equalmarginalseqs import generate_clean_random_eqmarg_seqs\n",
    "\n",
    "#import freebarcodes. Need to show jupyter where to find it.\n",
    "sys.path.append('/home/joneslab/nucleaseq/freebarcodes')\n",
    "\n",
    "master_seed = 37\n",
    "random.seed(master_seed)\n",
    "rand_seeds = [random.randint(0, 100) for i in range(10)]"
   ]
  },
  {
   "cell_type": "markdown",
   "metadata": {},
   "source": [
    "# Run parameters"
   ]
  },
  {
   "cell_type": "code",
   "execution_count": 3,
   "metadata": {},
   "outputs": [
    {
     "ename": "SyntaxError",
     "evalue": "invalid syntax (<ipython-input-3-5cd0a7794012>, line 33)",
     "output_type": "error",
     "traceback": [
      "\u001b[0;36m  File \u001b[0;32m\"<ipython-input-3-5cd0a7794012>\"\u001b[0;36m, line \u001b[0;32m33\u001b[0m\n\u001b[0;31m    amount of barcode pairs is not less than {total_desired_seqs}- the total_desired_seqs'''\u001b[0m\n\u001b[0m                                                                                            \n^\u001b[0m\n\u001b[0;31mSyntaxError\u001b[0m\u001b[0;31m:\u001b[0m invalid syntax\n"
     ]
    }
   ],
   "source": [
    "# Library features\n",
    "total_desired_seqs = int(input('What library size do You desire? Defaut: 12472') or '12472')\n",
    "n_err_detect_seqs = int(input('How many negative control sequences? Default: 150') or '150')\n",
    "min_perfect_target_copies = int(input('How many perfect targets do You desire? Default: 50') or '50')\n",
    "bases = 'ACGT'\n",
    "\n",
    "# Target features\n",
    "targets_fpath = '/home/joneslab/nucleaseq/resources/targets.yml'#TnpB-targets.yml'\n",
    "target_name = 'D'\n",
    "target_pam = 'TTTA' #when you request the PAM, only allow ACGT.\n",
    "pam_end = '5' #when you request the PAM end, only allow 5' or 3' and state that it must be given from 5'->3' \n",
    "#it will not be flipped when on 3'\n",
    "interesting_pams = ['TTTA'] # PAMs to investigate if you're interested in them. Originally: 'NNGAN'\n",
    "abs_cannonical_cut_sites = [13, 22] #How many bases away from the PAM will the sequence be cut\n",
    "\n",
    "#Barcode features\n",
    "barcodes_fpath = '/home/joneslab/nucleaseq/freebarcodes/barcodes/barcodes18-2.txt'#barcodes17-2.txt'#_subset1of3.txt'\n",
    "barcodes = [line.strip() for line in open(barcodes_fpath)]\n",
    "bad_substrs = [target_pam, 'ATCAA'] # Forbidden subseqs in buffers or primers (here TnpB TAMs)\n",
    "\n",
    "# Primer features\n",
    "min_primer_len = 18  # First length to try. Will go smaller if possible. Adjust this if notebook too slow.\n",
    "max_primer_len = 25\n",
    "\n",
    "#Computational limits\n",
    "nprocs = 2 #20 #Is this the number of processors used for computation\n",
    "\n",
    "log = logging.getLogger()\n",
    "log.addHandler(logging.StreamHandler())\n",
    "log.setLevel(logging.INFO)\n",
    "log.info(f'''The provided barcodes file has {len(barcodes)} barcodes, \n",
    "which could create {len(barcodes)/2} barcode pairs. It is important that the      \n",
    "amount of barcode pairs is not less than {total_desired_seqs}- the total_desired_seqs'''"
   ]
  },
  {
   "cell_type": "code",
   "execution_count": 4,
   "metadata": {},
   "outputs": [
    {
     "ename": "SyntaxError",
     "evalue": "invalid syntax (<ipython-input-4-6e224d241d3e>, line 10)",
     "output_type": "error",
     "traceback": [
      "\u001b[0;36m  File \u001b[0;32m\"<ipython-input-4-6e224d241d3e>\"\u001b[0;36m, line \u001b[0;32m10\u001b[0m\n\u001b[0;31m    print (f'Consider cut sites within {fudge_factor} bp of pamtarg positions: {abs_cannonical_cut_sites}')\u001b[0m\n\u001b[0m                                                                                                         ^\u001b[0m\n\u001b[0;31mSyntaxError\u001b[0m\u001b[0;31m:\u001b[0m invalid syntax\n"
     ]
    }
   ],
   "source": [
    "# Load the file containing the targets used for library generation.\n",
    "targets = yaml.safe_load(open(targets_fpath))\n",
    "target = targets[target_name]\n",
    "target_no_pam = target[len(target_pam):]\n",
    "target_seeds = [target[:12]]\n",
    "\n",
    "fudge_factor = 5             # How far from a cannonical cut site are possible cuts\n",
    "min_buffer_len = 5           # Min length of target-flanking buffers\n",
    "\n",
    "print (f'Consider cut sites within {fudge_factor} bp of pamtarg positions: {abs_cannonical_cut_sites}')\n",
    "print (f'Target {target_name} ({len(target)} bp): {target}')\n",
    "print ('Target seeds:')\n",
    "for target_seed in target_seeds:\n",
    "    print (f'    ({len(target_seed)} bp): {target_seed}')\n",
    "    \n",
    "print 'Cannonical cut sites:'\n",
    "for ccs in abs_cannonical_cut_sites:\n",
    "    ccs = int(math.ceil(ccs))\n",
    "    #print(target)\n",
    "    print (f'    [{target_pam}]{target_no_pam[:ccs]} x {target_no_pam[ccs:]}'"
   ]
  },
  {
   "cell_type": "code",
   "execution_count": 5,
   "metadata": {},
   "outputs": [
    {
     "ename": "SyntaxError",
     "evalue": "invalid syntax (<ipython-input-5-420a09e06b3f>, line 7)",
     "output_type": "error",
     "traceback": [
      "\u001b[0;36m  File \u001b[0;32m\"<ipython-input-5-420a09e06b3f>\"\u001b[0;36m, line \u001b[0;32m7\u001b[0m\n\u001b[0;31m    cuts_5 = f'[{target_pam}]{spacer[:ccs]} X {spacer[ccs:]}'\u001b[0m\n\u001b[0m                                                            ^\u001b[0m\n\u001b[0;31mSyntaxError\u001b[0m\u001b[0;31m:\u001b[0m invalid syntax\n"
     ]
    }
   ],
   "source": [
    "def cut_sites(spacer, target_pam, pam_end = '5', cut_sites = [13, 22]):\n",
    "    #Shows where a cut in the sequence will be made\n",
    "    outcome = []\n",
    "    pam_end = str(pam_end)\n",
    "    if pam_end == '5':\n",
    "        for ccs in cut_sites:   \n",
    "            cuts_5 = f'[{target_pam}]{spacer[:ccs]} X {spacer[ccs:]}'\n",
    "            outcome.append(cuts_5)\n",
    "    elif pam_end == '3':\n",
    "        #elif is still not finished\n",
    "        for ccs in cut_sites:   \n",
    "            cuts_3 = f'{spacer[:-ccs]} X {spacer[-ccs:]}[{target_pam}]'\n",
    "            outcome.append(cuts_3)\n",
    "        print('Note: PAM is not flipped')\n",
    "    return outcome"
   ]
  },
  {
   "cell_type": "code",
   "execution_count": null,
   "metadata": {},
   "outputs": [],
   "source": []
  }
 ],
 "metadata": {
  "kernelspec": {
   "display_name": "Python 2",
   "language": "python",
   "name": "python2"
  },
  "language_info": {
   "codemirror_mode": {
    "name": "ipython",
    "version": 2
   },
   "file_extension": ".py",
   "mimetype": "text/x-python",
   "name": "python",
   "nbconvert_exporter": "python",
   "pygments_lexer": "ipython2",
   "version": "2.7.18"
  }
 },
 "nbformat": 4,
 "nbformat_minor": 2
}
